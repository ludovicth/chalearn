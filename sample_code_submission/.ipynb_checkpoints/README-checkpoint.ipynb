{
 "cells": [
  {
   "cell_type": "markdown",
   "metadata": {},
   "source": [
    "# ReadMe   \n",
    "   <b>                            April 2016 version 4</b>"
   ]
  },
  {
   "cell_type": "markdown",
   "metadata": {},
   "source": [
    "This directory contains a sample submission for the <a href=\"http://automl.chalearn.org/\">ChaLearn AutoML challenge<a>"
   ]
  },
  {
   "cell_type": "markdown",
   "metadata": {},
   "source": [
    "## Instructions"
   ]
  },
  {
   "cell_type": "markdown",
   "metadata": {},
   "source": [
    "- The metadata file must be included and remain unchanged. \n",
    "- The directory structure and naming should remain unchanged.\n",
    "- A subdirectory res/ should contain results (for result submission only)\n",
    "\n",
    "- To create a valid submission, zip all the file with:\n",
    "\t\tzip -r zipfilename *\n",
    "starting from this directory, i.e. do not zip the directory itself, just its contents.\n",
    "The directory may also be zipped by turning on the flag \n",
    "zipme = True\n",
    "in run.py\n",
    "\n",
    "- For zipfilename use something explicit to remember the nature of its contents (algorithm name, code version, etc.)"
   ]
  },
  {
   "cell_type": "markdown",
   "metadata": {},
   "source": [
    "### Note\n",
    "\n",
    "This directory contains everything you need for either code or result submission. \n",
    "* To submit the code, you do not need to generate prediction results on your local machine, just submit the contents of this directory as a zip file.\n",
    "* To submit results, first run the code on your local computer to generate a res/ subdirectory; then bundle everything (including run.py, metadata, lib/, and res/) and submit the zip file. This is what we want you to do the the hackathon.\n",
    "\n",
    "\n"
   ]
  },
  {
   "cell_type": "markdown",
   "metadata": {},
   "source": [
    "<span style =\" color:red\">IMPORTANT: you do NOT need to bundle the data with your submission, just the code and the results.<span >"
   ]
  },
  {
   "cell_type": "markdown",
   "metadata": {},
   "source": [
    "### Disclaimer:\n",
    "<i>The authors decline responsibility for mistakes, incompleteness or lack of quality of the information provided. The authors intended not to use any copyrighted material, if not possible, to indicate the copyright of the respective object. The copyright for any material created by the authors is reserved. The authors intended not to violate any patent rights or, if not possible, to indicate the patents of the respective objects. The payment of royalties or other fees for use of methods, which may be protected by copyright patents, remains the responsibility of the users. \n",
    "ALL INFORMATION, SOFTWARE, DOCUMENTATION, AND DATA ARE PROVIDED \"AS-IS\" THE ORGANIZERS DISCLAIM ANY EXPRESSED OR IMPLIED WARRANTIES, INCLUDING, BUT NOT LIMITED TO, THE IMPLIED WARRANTIES OF MERCHANTABILITY AND FITNESS FOR A PARTICULAR PURPOSE. IN NO EVENT SHALL ISABELLE GUYON AND/OR OTHER ORGANIZERS BE LIABLE FOR ANY SPECIAL, INDIRECT OR CONSEQUENTIAL DAMAGES OR ANY DAMAGES WHATSOEVER ARISING OUT OF OR IN CONNECTION WITH THE USE OR PERFORMANCE OF SOFTWARE, DOCUMENTS, MATERIALS, PUBLICATIONS, OR INFORMATION MADE AVAILABLE FOR THE AUTOML CHALLENGE.</i>\n"
   ]
  }
 ],
 "metadata": {
  "kernelspec": {
   "display_name": "Python 2",
   "language": "python",
   "name": "python2"
  },
  "language_info": {
   "codemirror_mode": {
    "name": "ipython",
    "version": 2
   },
   "file_extension": ".py",
   "mimetype": "text/x-python",
   "name": "python",
   "nbconvert_exporter": "python",
   "pygments_lexer": "ipython2",
   "version": "2.7.11"
  }
 },
 "nbformat": 4,
 "nbformat_minor": 0
}
