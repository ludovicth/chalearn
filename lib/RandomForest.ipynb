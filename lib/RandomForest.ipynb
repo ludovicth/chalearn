{
 "cells": [
  {
   "cell_type": "markdown",
   "metadata": {},
   "source": [
    "# Libraries"
   ]
  },
  {
   "cell_type": "code",
   "execution_count": 145,
   "metadata": {
    "collapsed": false
   },
   "outputs": [],
   "source": [
    "# We load the required libraries to compute, plot, etc.\n",
    "import scipy.io as sio\n",
    "import numpy as np\n",
    "import matplotlib.pyplot as plt\n",
    "%matplotlib inline\n",
    "from __future__ import division\n",
    "\n",
    "# For the computation time\n",
    "import time\n",
    "\n",
    "# For the Kaggle Competition\n",
    "import csv\n",
    "\n",
    "# And we import tools to preprocess the data\n",
    "from sklearn.cross_validation import train_test_split\n",
    "from numpy.linalg import norm\n",
    "\n",
    "# And the Random Forest libraries\n"
   ]
  },
  {
   "cell_type": "markdown",
   "metadata": {},
   "source": [
    "# First run to test the libraries and workflow (without class)"
   ]
  },
  {
   "cell_type": "markdown",
   "metadata": {},
   "source": [
    "## Preprocessing the data"
   ]
  },
  {
   "cell_type": "code",
   "execution_count": 146,
   "metadata": {
    "collapsed": true
   },
   "outputs": [],
   "source": [
    "\n"
   ]
  },
  {
   "cell_type": "markdown",
   "metadata": {
    "collapsed": false
   },
   "source": [
    "## Exporting the results"
   ]
  },
  {
   "cell_type": "code",
   "execution_count": 171,
   "metadata": {
    "collapsed": false
   },
   "outputs": [],
   "source": [
    "# We export the results to a CSV file\n",
    "with open(\"../results/predict.csv\", 'w') as fp:\n",
    "    a = csv.writer(fp, delimiter=',')\n",
    "    data = [['Id', 'Category']]\n",
    "    for i in range(y_pred.shape[0]):\n",
    "        index = int(i+1)\n",
    "        prediction = int(y_pred[i])\n",
    "        row = [index, prediction]\n",
    "        data = np.append(data, [[index, prediction]], axis=0)\n",
    "    a.writerows(data)"
   ]
  }
 ],
 "metadata": {
  "kernelspec": {
   "display_name": "Python 2",
   "language": "python",
   "name": "python2"
  },
  "language_info": {
   "codemirror_mode": {
    "name": "ipython",
    "version": 2
   },
   "file_extension": ".py",
   "mimetype": "text/x-python",
   "name": "python",
   "nbconvert_exporter": "python",
   "pygments_lexer": "ipython2",
   "version": "2.7.11"
  }
 },
 "nbformat": 4,
 "nbformat_minor": 0
}
